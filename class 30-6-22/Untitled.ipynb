{
 "cells": [
  {
   "cell_type": "markdown",
   "id": "fe93c4b9",
   "metadata": {},
   "source": [
    "# Keyword Arguements"
   ]
  },
  {
   "cell_type": "code",
   "execution_count": 14,
   "id": "ea0834da",
   "metadata": {},
   "outputs": [],
   "source": [
    "def function(arr,task):\n",
    "    if task==\"sum\":\n",
    "        return sum(arr)\n",
    "    elif task == \"mult\":\n",
    "        result = 1\n",
    "        for num in arr:\n",
    "            result = result*i\n",
    "        return result\n",
    "    elif task == \"max\":\n",
    "        return max(arr)\n",
    "    elif task == \"min\":\n",
    "        return min (arr)\n",
    "    elif task == \"even\":\n",
    "        even = []\n",
    "        for a in arr:\n",
    "            if a%2 == 0:\n",
    "                even.append(a)\n",
    "        return even\n",
    "    elif task == \"odd\":\n",
    "        odd = []\n",
    "        for b in arr:\n",
    "            if b%2 != 0:\n",
    "                odd.append(b)\n",
    "        return odd \n",
    "    else:\n",
    "        return arr\n",
    "                "
   ]
  },
  {
   "cell_type": "code",
   "execution_count": 18,
   "id": "114337a9",
   "metadata": {},
   "outputs": [
    {
     "data": {
      "text/plain": [
       "[3, 5, 9]"
      ]
     },
     "execution_count": 18,
     "metadata": {},
     "output_type": "execute_result"
    }
   ],
   "source": [
    "function((3,5,8,9),\"odd\")"
   ]
  },
  {
   "cell_type": "code",
   "execution_count": 17,
   "id": "ace613be",
   "metadata": {},
   "outputs": [
    {
     "data": {
      "text/plain": [
       "[4, 6]"
      ]
     },
     "execution_count": 17,
     "metadata": {},
     "output_type": "execute_result"
    }
   ],
   "source": [
    "function((7,4,5,6),\"even\")"
   ]
  },
  {
   "cell_type": "code",
   "execution_count": 32,
   "id": "424eff61",
   "metadata": {},
   "outputs": [],
   "source": [
    "def calculator(num1,num2,task):\n",
    "    num1 = int(input(\"Enter first number: \"))\n",
    "    num2 = int(input(\"Enter second number: \"))\n",
    "    task = input(\"what do you want :\")\n",
    "    if task ==\"+\":\n",
    "        return (num1+num2)\n",
    "    elif task == \"*\":\n",
    "        return (num1*num2)\n",
    "    elif task == \"-\":\n",
    "        return (num1-num2)\n",
    "    elif task == \"/\":\n",
    "        return (num1/num2)\n",
    "    elif task == \"%\":\n",
    "        return (num1 % num2)\n",
    "       "
   ]
  },
  {
   "cell_type": "code",
   "execution_count": 36,
   "id": "b0fab06a",
   "metadata": {},
   "outputs": [
    {
     "name": "stdout",
     "output_type": "stream",
     "text": [
      "Enter first number: 7\n",
      "Enter second number: 4\n",
      "what do you want :-\n"
     ]
    },
    {
     "data": {
      "text/plain": [
       "3"
      ]
     },
     "execution_count": 36,
     "metadata": {},
     "output_type": "execute_result"
    }
   ],
   "source": [
    "calculator(num1,num2,task)"
   ]
  },
  {
   "cell_type": "code",
   "execution_count": 47,
   "id": "8ba71756",
   "metadata": {},
   "outputs": [],
   "source": [
    "def description(name, age, gender, blood_group):\n",
    "    \n",
    "    desc = f\"\"\"\n",
    "                      Bio Data\n",
    "            The name of person is {name}\n",
    "            The age person is {age}\n",
    "            The Gender is {gender}\n",
    "            The blood group is {blood_group}\n",
    "    \"\"\"       \n",
    "    print(desc)                                                                                                                                                                                   "
   ]
  },
  {
   "cell_type": "code",
   "execution_count": 48,
   "id": "be485b22",
   "metadata": {},
   "outputs": [
    {
     "name": "stdout",
     "output_type": "stream",
     "text": [
      "\n",
      "                      Bio Data\n",
      "            The name of person is Junaid\n",
      "            The age person is 23\n",
      "            The Gender is male\n",
      "            The blood group is A+\n",
      "    \n"
     ]
    }
   ],
   "source": [
    "description(\"Junaid\", 23, \"male\", \"A+\")"
   ]
  },
  {
   "cell_type": "code",
   "execution_count": 56,
   "id": "ae83878b",
   "metadata": {},
   "outputs": [
    {
     "name": "stdout",
     "output_type": "stream",
     "text": [
      "Jimi Hendrix\n"
     ]
    }
   ],
   "source": [
    "def get_formatted_name(first_name, last_name):\n",
    "   \n",
    "    \n",
    "    full_name = first_name + ' ' + last_name\n",
    "    return full_name.title()\n",
    "\n",
    "musician = get_formatted_name('jimi', 'hendrix')\n",
    "print(musician)\n",
    "\n"
   ]
  },
  {
   "cell_type": "code",
   "execution_count": 58,
   "id": "59c97a27",
   "metadata": {},
   "outputs": [
    {
     "name": "stdout",
     "output_type": "stream",
     "text": [
      "printing model:Wali\n",
      "printing model:Yaqoob\n",
      "printing model:Saif\n",
      "printing model:Hasan\n",
      "printing model:Ali\n",
      "\n",
      "The following models have been printed:\n",
      "Wali\n",
      "Yaqoob\n",
      "Saif\n",
      "Hasan\n",
      "Ali\n"
     ]
    }
   ],
   "source": [
    "unprinted_designs = [\"Ali\", \"Hasan\", \"Saif\", \"Yaqoob\", \"Wali\"]\n",
    "completed_models = []\n",
    "\n",
    "while unprinted_designs:\n",
    "        current_design = unprinted_designs.pop()\n",
    "        print(\"printing model:\" + current_design)\n",
    "        completed_models.append(current_design)\n",
    "        \n",
    "print(\"\\nThe following models have been printed:\")\n",
    "\n",
    "for completed_model in completed_models:\n",
    "    print(completed_model)"
   ]
  },
  {
   "cell_type": "code",
   "execution_count": null,
   "id": "10d7c200",
   "metadata": {},
   "outputs": [],
   "source": []
  }
 ],
 "metadata": {
  "kernelspec": {
   "display_name": "Python 3 (ipykernel)",
   "language": "python",
   "name": "python3"
  },
  "language_info": {
   "codemirror_mode": {
    "name": "ipython",
    "version": 3
   },
   "file_extension": ".py",
   "mimetype": "text/x-python",
   "name": "python",
   "nbconvert_exporter": "python",
   "pygments_lexer": "ipython3",
   "version": "3.9.7"
  }
 },
 "nbformat": 4,
 "nbformat_minor": 5
}
